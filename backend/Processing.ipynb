{
 "cells": [
  {
   "cell_type": "code",
   "execution_count": 2,
   "id": "53f90d4b",
   "metadata": {},
   "outputs": [],
   "source": [
    "import pandas as pd\n",
    "import numpy as np"
   ]
  },
  {
   "cell_type": "code",
   "execution_count": 3,
   "id": "fbabf6c0",
   "metadata": {},
   "outputs": [],
   "source": [
    "file_path = 'Indice prix - Jun 2024_v4.xlsx'\n",
    "sheet_name = 'Calc'\n",
    "\n",
    "skip_rows = 4  \n",
    "usecols = \"D,F,V,S,Y,H,I,R:AA\"  \n",
    "\n",
    "# Read the specific table from the sheet\n",
    "Prix_P1 = pd.read_excel(file_path, sheet_name=sheet_name, skiprows=skip_rows, usecols=usecols)"
   ]
  },
  {
   "cell_type": "code",
   "execution_count": 4,
   "id": "483284fc",
   "metadata": {},
   "outputs": [],
   "source": [
    "file_path = 'Indice prix - Jun 2024_v4.xlsx'\n",
    "sheet_name = 'Calc'\n",
    "\n",
    "skip_rows = 4  \n",
    "usecols = \"D,F,V,S,R,H,I,AB:AH\"  \n",
    "\n",
    "# Read the specific table from the sheet\n",
    "Prix_P3 = pd.read_excel(file_path, sheet_name=sheet_name, skiprows=skip_rows, usecols=usecols)"
   ]
  },
  {
   "cell_type": "code",
   "execution_count": 5,
   "id": "54fd638b",
   "metadata": {},
   "outputs": [],
   "source": [
    "file_path = 'Indice prix - Jun 2024_v4.xlsx'\n",
    "sheet_name = 'Calc'\n",
    "\n",
    "skip_rows = 4  \n",
    "usecols = \"D,F,V,S,R,H,I,AI:AO\"  \n",
    "\n",
    "# Read the specific table from the sheet\n",
    "Prix_moyen_hors_promo = pd.read_excel(file_path, sheet_name=sheet_name, skiprows=skip_rows, usecols=usecols)"
   ]
  },
  {
   "cell_type": "code",
   "execution_count": 6,
   "id": "4d075bd4",
   "metadata": {},
   "outputs": [],
   "source": [
    "file_path = 'Indice prix - Jun 2024_v4.xlsx'\n",
    "sheet_name = 'Calc'\n",
    "\n",
    "skip_rows = 4  \n",
    "usecols = \"D,F,V,S,R,H,I,AP:BA\"  \n",
    "\n",
    "# Read the specific table from the sheet\n",
    "Prix_cible = pd.read_excel(file_path, sheet_name=sheet_name, skiprows=skip_rows, usecols=usecols)"
   ]
  },
  {
   "cell_type": "code",
   "execution_count": 7,
   "id": "3aa405a4",
   "metadata": {},
   "outputs": [],
   "source": [
    "file_path = 'Indice prix - Jun 2024_v4.xlsx'\n",
    "sheet_name = 'Calc'\n",
    "\n",
    "skip_rows = 4  \n",
    "usecols = \"B,D,F,V,S,R,H,I,BB:BI\"  \n",
    "\n",
    "# Read the specific table from the sheet\n",
    "Concurrent_moins_cher = pd.read_excel(file_path, sheet_name=sheet_name, skiprows=skip_rows, usecols=usecols)"
   ]
  },
  {
   "cell_type": "code",
   "execution_count": 8,
   "id": "606b0450",
   "metadata": {},
   "outputs": [],
   "source": [
    "csv_filename = 'concurrent_moins_cher.csv'\n",
    "Concurrent_moins_cher.to_csv(csv_filename, index=False)"
   ]
  },
  {
   "cell_type": "code",
   "execution_count": 9,
   "id": "b90a582f",
   "metadata": {},
   "outputs": [],
   "source": [
    "file_path = 'Indice prix - Jun 2024_v4.xlsx'\n",
    "sheet_name = 'Calc'\n",
    "\n",
    "skip_rows = 4  \n",
    "usecols = \"B,D,F,V,S,R,H,I,BJ:BS\"  \n",
    "\n",
    "# Read the specific table from the sheet\n",
    "Carrefour_market = pd.read_excel(file_path, sheet_name=sheet_name, skiprows=skip_rows, usecols=usecols)"
   ]
  },
  {
   "cell_type": "code",
   "execution_count": 10,
   "id": "2b21d6db",
   "metadata": {},
   "outputs": [],
   "source": [
    "file_path = 'Indice prix - Jun 2024_v4.xlsx'\n",
    "sheet_name = 'Calc'\n",
    "\n",
    "skip_rows = 4  \n",
    "usecols = \"B,D,F,V,S,R,H,I,BT:CC\"  \n",
    "\n",
    "# Read the specific table from the sheet\n",
    "Carrefour_hyper = pd.read_excel(file_path, sheet_name=sheet_name, skiprows=skip_rows, usecols=usecols)"
   ]
  },
  {
   "cell_type": "code",
   "execution_count": 11,
   "id": "1932df57",
   "metadata": {},
   "outputs": [],
   "source": [
    "file_path = 'Indice prix - Jun 2024_v4.xlsx'\n",
    "sheet_name = 'Calc'\n",
    "\n",
    "skip_rows = 4  \n",
    "usecols = \"B,D,F,V,S,R,H,I,CD:CM\"  \n",
    "\n",
    "# Read the specific table from the sheet\n",
    "Monoprix = pd.read_excel(file_path, sheet_name=sheet_name, skiprows=skip_rows, usecols=usecols)"
   ]
  },
  {
   "cell_type": "code",
   "execution_count": 12,
   "id": "ecdc3bc8",
   "metadata": {},
   "outputs": [],
   "source": [
    "file_path = 'Indice prix - Jun 2024_v4.xlsx'\n",
    "sheet_name = 'Calc'\n",
    "\n",
    "skip_rows = 4  \n",
    "usecols = \"B,D,F,V,S,R,H,I,CN:CW\"  \n",
    "\n",
    "# Read the specific table from the sheet\n",
    "Aziza = pd.read_excel(file_path, sheet_name=sheet_name, skiprows=skip_rows, usecols=usecols)"
   ]
  },
  {
   "cell_type": "code",
   "execution_count": 13,
   "id": "b03274c8",
   "metadata": {},
   "outputs": [],
   "source": [
    "csv_filename = 'carrefour_hyper.csv'\n",
    "Carrefour_hyper.to_csv(csv_filename, index=False)"
   ]
  },
  {
   "cell_type": "code",
   "execution_count": 14,
   "id": "7aa82400",
   "metadata": {},
   "outputs": [],
   "source": [
    "csv_filename = 'carrefour_market.csv'\n",
    "Carrefour_market.to_csv(csv_filename, index=False)"
   ]
  },
  {
   "cell_type": "code",
   "execution_count": 15,
   "id": "ac35bdd9",
   "metadata": {},
   "outputs": [],
   "source": [
    "csv_filename = 'monoprix.csv'\n",
    "Monoprix.to_csv(csv_filename, index=False)"
   ]
  },
  {
   "cell_type": "code",
   "execution_count": 16,
   "id": "b94b1593",
   "metadata": {},
   "outputs": [],
   "source": [
    "csv_filename = 'aziza.csv'\n",
    "Aziza.to_csv(csv_filename, index=False)"
   ]
  },
  {
   "cell_type": "code",
   "execution_count": 17,
   "id": "36b7a4b0",
   "metadata": {},
   "outputs": [],
   "source": [
    "import pandas as pd\n",
    "file_path = 'Indice prix - Jun 2024_v4.xlsx'\n",
    "sheet_name = 'Calc'\n",
    "\n",
    "skip_rows = 4  \n",
    "usecols = \"B,D,F,V,S,R,H,I,J:Q\"  \n",
    "\n",
    "# Read the specific table from the sheet\n",
    "SMG = pd.read_excel(file_path, sheet_name=sheet_name, skiprows=skip_rows, usecols=usecols)"
   ]
  },
  {
   "cell_type": "code",
   "execution_count": 18,
   "id": "64657993",
   "metadata": {},
   "outputs": [],
   "source": [
    "csv_filename = 'smg.csv'\n",
    "SMG.to_csv(csv_filename, index=False)"
   ]
  },
  {
   "cell_type": "code",
   "execution_count": 19,
   "id": "188c76a1",
   "metadata": {},
   "outputs": [],
   "source": [
    "import pandas as pd\n",
    "file_path = 'Indice prix - Jun 2024_v4.xlsx'\n",
    "sheet_name = 'Calc'\n",
    "\n",
    "skip_rows = 4  \n",
    "usecols = \"B,D,F,V,R,H,I,BB:BI\"  \n",
    "\n",
    "# Read the specific table from the sheet\n",
    "concuurent_moins_cher = pd.read_excel(file_path, sheet_name=sheet_name, skiprows=skip_rows, usecols=usecols)"
   ]
  },
  {
   "cell_type": "code",
   "execution_count": 20,
   "id": "fc00a524",
   "metadata": {},
   "outputs": [],
   "source": [
    "csv_filename = 'concuurent_moins_cher.csv'\n",
    "concuurent_moins_cher.to_csv(csv_filename, index=False)"
   ]
  },
  {
   "cell_type": "code",
   "execution_count": 21,
   "id": "3598895f",
   "metadata": {},
   "outputs": [],
   "source": [
    "import pandas as pd\n",
    "file_path = 'Indice prix - Jun 2024_v4.xlsx'\n",
    "sheet_name = 'Calc'\n",
    "\n",
    "skip_rows = 4  \n",
    "usecols = \"B,D,F,V,S,R,H,I,AB:AH\"  \n",
    "\n",
    "# Read the specific table from the sheet\n",
    "prix_p3 = pd.read_excel(file_path, sheet_name=sheet_name, skiprows=skip_rows, usecols=usecols)"
   ]
  },
  {
   "cell_type": "code",
   "execution_count": 22,
   "id": "0ffbd717",
   "metadata": {},
   "outputs": [],
   "source": [
    "csv_filename = 'prix_p3.csv'\n",
    "prix_p3.to_csv(csv_filename, index=False)"
   ]
  },
  {
   "cell_type": "code",
   "execution_count": 23,
   "id": "84e9670e",
   "metadata": {},
   "outputs": [],
   "source": [
    "import pandas as pd\n",
    "file_path = 'Indice prix - Jun 2024_v4.xlsx'\n",
    "sheet_name = 'Calc'\n",
    "\n",
    "skip_rows = 4  \n",
    "usecols = \"B,D,F,V,H,I,R:X\"  \n",
    "\n",
    "# Read the specific table from the sheet\n",
    "importance_article = pd.read_excel(file_path, sheet_name=sheet_name, skiprows=skip_rows, usecols=usecols)"
   ]
  },
  {
   "cell_type": "code",
   "execution_count": 24,
   "id": "38d2560a",
   "metadata": {},
   "outputs": [],
   "source": [
    "csv_filename = 'importance_article.csv'\n",
    "importance_article.to_csv(csv_filename, index=False)"
   ]
  },
  {
   "cell_type": "code",
   "execution_count": 34,
   "id": "0e2485bc",
   "metadata": {},
   "outputs": [],
   "source": [
    "import pandas as pd\n",
    "file_path = 'Indice prix - Jun 2024_v4.xlsx'\n",
    "sheet_name = 'Calc'\n",
    "\n",
    "skip_rows = 4  \n",
    "usecols = \"B:I,R,S,V\"  \n",
    "\n",
    "# Read the specific table from the sheet\n",
    "article = pd.read_excel(file_path, sheet_name=sheet_name, skiprows=skip_rows, usecols=usecols)"
   ]
  },
  {
   "cell_type": "code",
   "execution_count": 35,
   "id": "6dd54e12",
   "metadata": {},
   "outputs": [],
   "source": [
    "csv_filename = 'article.csv'\n",
    "article.to_csv(csv_filename, index=False)"
   ]
  },
  {
   "cell_type": "code",
   "execution_count": 36,
   "id": "faa9a124",
   "metadata": {},
   "outputs": [
    {
     "data": {
      "text/html": [
       "<div>\n",
       "<style scoped>\n",
       "    .dataframe tbody tr th:only-of-type {\n",
       "        vertical-align: middle;\n",
       "    }\n",
       "\n",
       "    .dataframe tbody tr th {\n",
       "        vertical-align: top;\n",
       "    }\n",
       "\n",
       "    .dataframe thead th {\n",
       "        text-align: right;\n",
       "    }\n",
       "</style>\n",
       "<table border=\"1\" class=\"dataframe\">\n",
       "  <thead>\n",
       "    <tr style=\"text-align: right;\">\n",
       "      <th></th>\n",
       "      <th>Code article</th>\n",
       "      <th>ARTICLE</th>\n",
       "      <th>CATEGORIE</th>\n",
       "      <th>FOURNISSEUR</th>\n",
       "      <th>MDD</th>\n",
       "      <th>SECTEUR</th>\n",
       "      <th>RAYON</th>\n",
       "      <th>ETAT</th>\n",
       "      <th>Liste de guerre / course</th>\n",
       "      <th>Bucket de CA</th>\n",
       "      <th>Homologation</th>\n",
       "    </tr>\n",
       "  </thead>\n",
       "  <tbody>\n",
       "    <tr>\n",
       "      <th>0</th>\n",
       "      <td>11010731</td>\n",
       "      <td>11010731 - HUILE OLIVE EXT-VIERGE 1L ONH</td>\n",
       "      <td>126 - HUILES</td>\n",
       "      <td>23242 - OFFICE NATIONALE DE L'HUILE</td>\n",
       "      <td>HORS MDD</td>\n",
       "      <td>1  - PGC</td>\n",
       "      <td>11 - EPICERIE SALEE</td>\n",
       "      <td>V</td>\n",
       "      <td>NaN</td>\n",
       "      <td>Q1</td>\n",
       "      <td>Prix Fixe</td>\n",
       "    </tr>\n",
       "    <tr>\n",
       "      <th>1</th>\n",
       "      <td>12000242</td>\n",
       "      <td>12000242 - LAIT 1/2 EC UHT 1L DELICE</td>\n",
       "      <td>272 - LAIT UHT</td>\n",
       "      <td>18423 - STE CENT.LAITIERE CAP-BON CLC</td>\n",
       "      <td>HORS MDD</td>\n",
       "      <td>1  - PGC</td>\n",
       "      <td>12 - PFLS</td>\n",
       "      <td>V</td>\n",
       "      <td>NaN</td>\n",
       "      <td>Q1</td>\n",
       "      <td>Prix Fixe</td>\n",
       "    </tr>\n",
       "    <tr>\n",
       "      <th>2</th>\n",
       "      <td>11000882</td>\n",
       "      <td>11000882 - DCT 800G SICAM</td>\n",
       "      <td>151 - CONSERVES DE LEGUMES</td>\n",
       "      <td>3130 - STE SICAM</td>\n",
       "      <td>HORS MDD</td>\n",
       "      <td>1  - PGC</td>\n",
       "      <td>11 - EPICERIE SALEE</td>\n",
       "      <td>V</td>\n",
       "      <td>NaN</td>\n",
       "      <td>Q1</td>\n",
       "      <td>Marge fixe</td>\n",
       "    </tr>\n",
       "    <tr>\n",
       "      <th>3</th>\n",
       "      <td>12000576</td>\n",
       "      <td>12000576 - FROMAGE FONDU 48P PRESIDENT</td>\n",
       "      <td>276 - FROMAGE LS - TRIANGLE</td>\n",
       "      <td>2454 - INDUSTRIES ALIMENTAIRES DE TU</td>\n",
       "      <td>HORS MDD</td>\n",
       "      <td>1  - PGC</td>\n",
       "      <td>12 - PFLS</td>\n",
       "      <td>V</td>\n",
       "      <td>NaN</td>\n",
       "      <td>Q1</td>\n",
       "      <td>NaN</td>\n",
       "    </tr>\n",
       "    <tr>\n",
       "      <th>4</th>\n",
       "      <td>10000940</td>\n",
       "      <td>10000940 - THON ENTIER HV 1KG EL MANAR</td>\n",
       "      <td>152 - CONSERVES DE POISSONS ET FRUIT</td>\n",
       "      <td>324 - SOCIETE MANAR THON.</td>\n",
       "      <td>HORS MDD</td>\n",
       "      <td>1  - PGC</td>\n",
       "      <td>11 - EPICERIE SALEE</td>\n",
       "      <td>V</td>\n",
       "      <td>NaN</td>\n",
       "      <td>Q1</td>\n",
       "      <td>NaN</td>\n",
       "    </tr>\n",
       "  </tbody>\n",
       "</table>\n",
       "</div>"
      ],
      "text/plain": [
       "   Code article                                   ARTICLE  \\\n",
       "0      11010731  11010731 - HUILE OLIVE EXT-VIERGE 1L ONH   \n",
       "1      12000242      12000242 - LAIT 1/2 EC UHT 1L DELICE   \n",
       "2      11000882                 11000882 - DCT 800G SICAM   \n",
       "3      12000576    12000576 - FROMAGE FONDU 48P PRESIDENT   \n",
       "4      10000940    10000940 - THON ENTIER HV 1KG EL MANAR   \n",
       "\n",
       "                              CATEGORIE  \\\n",
       "0                          126 - HUILES   \n",
       "1                        272 - LAIT UHT   \n",
       "2            151 - CONSERVES DE LEGUMES   \n",
       "3           276 - FROMAGE LS - TRIANGLE   \n",
       "4  152 - CONSERVES DE POISSONS ET FRUIT   \n",
       "\n",
       "                             FOURNISSEUR       MDD   SECTEUR  \\\n",
       "0    23242 - OFFICE NATIONALE DE L'HUILE  HORS MDD  1  - PGC   \n",
       "1  18423 - STE CENT.LAITIERE CAP-BON CLC  HORS MDD  1  - PGC   \n",
       "2                       3130 - STE SICAM  HORS MDD  1  - PGC   \n",
       "3   2454 - INDUSTRIES ALIMENTAIRES DE TU  HORS MDD  1  - PGC   \n",
       "4              324 - SOCIETE MANAR THON.  HORS MDD  1  - PGC   \n",
       "\n",
       "                 RAYON ETAT Liste de guerre / course Bucket de CA Homologation  \n",
       "0  11 - EPICERIE SALEE    V                      NaN           Q1    Prix Fixe  \n",
       "1            12 - PFLS    V                      NaN           Q1    Prix Fixe  \n",
       "2  11 - EPICERIE SALEE    V                      NaN           Q1   Marge fixe  \n",
       "3            12 - PFLS    V                      NaN           Q1          NaN  \n",
       "4  11 - EPICERIE SALEE    V                      NaN           Q1          NaN  "
      ]
     },
     "execution_count": 36,
     "metadata": {},
     "output_type": "execute_result"
    }
   ],
   "source": [
    "article.head()"
   ]
  },
  {
   "cell_type": "code",
   "execution_count": 27,
   "id": "ae88b827",
   "metadata": {},
   "outputs": [],
   "source": [
    "import pandas as pd\n",
    "file_path = 'Indice prix - Jun 2024_v4.xlsx'\n",
    "sheet_name = 'Calc'\n",
    "\n",
    "skip_rows = 4  \n",
    "usecols = \"B,D,F,V,S,R,H,I,Y:AA\"  \n",
    "\n",
    "# Read the specific table from the sheet\n",
    "prix_p1 = pd.read_excel(file_path, sheet_name=sheet_name, skiprows=skip_rows, usecols=usecols)"
   ]
  },
  {
   "cell_type": "code",
   "execution_count": 28,
   "id": "18c01bdf",
   "metadata": {},
   "outputs": [],
   "source": [
    "csv_filename = 'prix_p1.csv'\n",
    "prix_p1.to_csv(csv_filename, index=False)"
   ]
  },
  {
   "cell_type": "code",
   "execution_count": 29,
   "id": "67530b52",
   "metadata": {},
   "outputs": [],
   "source": [
    "import pandas as pd\n",
    "file_path = 'Indice prix - Jun 2024_v4.xlsx'\n",
    "sheet_name = 'Calc'\n",
    "\n",
    "skip_rows = 4  \n",
    "usecols = \"B,D,F,V,S,R,H,I,AP:BA\"  \n",
    "\n",
    "# Read the specific table from the sheet\n",
    "prix_cible = pd.read_excel(file_path, sheet_name=sheet_name, skiprows=skip_rows, usecols=usecols)"
   ]
  },
  {
   "cell_type": "code",
   "execution_count": 30,
   "id": "064c469c",
   "metadata": {},
   "outputs": [],
   "source": [
    "csv_filename = 'prix_cible.csv'\n",
    "prix_cible.to_csv(csv_filename, index=False)"
   ]
  },
  {
   "cell_type": "code",
   "execution_count": 31,
   "id": "44dea545",
   "metadata": {},
   "outputs": [],
   "source": [
    "import pandas as pd\n",
    "file_path = 'Indice prix - Jun 2024_v4.xlsx'\n",
    "sheet_name = 'Calc'\n",
    "\n",
    "skip_rows = 4  \n",
    "usecols = \"B,D,F,V,S,R,H,I,AI:AO\"  \n",
    "\n",
    "# Read the specific table from the sheet\n",
    "prix_moyen_hors_promo = pd.read_excel(file_path, sheet_name=sheet_name, skiprows=skip_rows, usecols=usecols)"
   ]
  },
  {
   "cell_type": "code",
   "execution_count": 32,
   "id": "61faca8d",
   "metadata": {},
   "outputs": [],
   "source": [
    "csv_filename = 'prix_moyen_hors_promo.csv'\n",
    "prix_moyen_hors_promo.to_csv(csv_filename, index=False)"
   ]
  },
  {
   "cell_type": "code",
   "execution_count": null,
   "id": "ae1c3447",
   "metadata": {},
   "outputs": [],
   "source": []
  }
 ],
 "metadata": {
  "kernelspec": {
   "display_name": "Python 3",
   "language": "python",
   "name": "python3"
  },
  "language_info": {
   "codemirror_mode": {
    "name": "ipython",
    "version": 3
   },
   "file_extension": ".py",
   "mimetype": "text/x-python",
   "name": "python",
   "nbconvert_exporter": "python",
   "pygments_lexer": "ipython3",
   "version": "3.12.1"
  }
 },
 "nbformat": 4,
 "nbformat_minor": 5
}
